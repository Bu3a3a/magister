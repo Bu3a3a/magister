{
 "cells": [
  {
   "cell_type": "markdown",
   "metadata": {},
   "source": [
    "# Построение моделей для предсказания показателей регионов"
   ]
  },
  {
   "cell_type": "markdown",
   "metadata": {},
   "source": [
    "## Описание работы"
   ]
  },
  {
   "cell_type": "markdown",
   "metadata": {},
   "source": [
    "В данной работе предпринимается попытка создания моделей, позволяющих предсказывать:\n",
    "* Контроль над ходом госзакупок (доля отмененных конкурсов в общем количестве), %;\n",
    "* Общественное обсуждение законопроектов в Интернете (да - 1, нет - 0);\n",
    "* Количество зарегистрированных организаций ТОС на 10 тысяч человек, штук.\n",
    "\n",
    "Для предсказания используются следующие индикаторы:\n",
    "* Институционные факторы:\n",
    "    1. Конкурентность выборов (да - 1, нет - 0);\n",
    "    2. Уровень парламентской конкуренции, %;\n",
    "    3. Уровень конкуренции при формировании исполнительной власти, %;\n",
    "    4. Включенность граждан в избирательный процесс, %;\n",
    "    5. Участие граждан в деятельности общественных организаций, %;\n",
    "* Инфраструктурные факторы:\n",
    "    1. Количество абонентов сети интернет, тысяч;\n",
    "    2. Количество абонентов мобильного интернета на 100 человек, единиц;\n",
    "    3. Число персональных компьютеров на 100 человек, штук;\n",
    "    4. Организации, связанные с бизнесом и использующие интернет (от общего числа обследованных организаций), %;\n",
    "    5. Организации, связанные с бизнесом и имеющие веб-сайт (от общего числа обследованных организаций), %;\n",
    "    6. Число персональных компьютеров на 100 работников в бизнесе, штук;\n",
    "    7. Системы электронного документооборота (от общего числа обследованных организаций), %;\n",
    "    8. Автоматический обмен данными между своими и внешними информационными системами (от общего числа обследованных организаций), %;\n",
    "    9. Организации, имеющие отношение в органам власти и использующие интернет (от общего числа обследованных организаций), %;\n",
    "    10. Доступность госуслуг, в том числе и за счет сокращения сроков предоставления (да - 1, нет - 0);\n",
    "    11. Наличие инфраструктуры открытых данных, в том числе государственных (да - 1, нет - 0);\n",
    "    12. Открытость процесса выборов (да - 1, нет - 0);\n",
    "* Ресурсные факторы:\n",
    "    1. Доля населения со средним образованием, %;\n",
    "    2. Доля населения с высшим образованием, %;\n",
    "    3. Доля населения, имеющего ученые степени, %;\n",
    "    4. Доля специалистов в области ИКТ, %;\n",
    "    5. ВРП на душу населения, рублей;\n",
    "    6. Среднедушевые доходы населения, рублей;\n",
    "    7. Объем использования программного обеспечения, %;\n",
    "    8. Удельный вес инвестиций в основной капитал в ВВП, %;\n",
    "    9. Доступность венчурного капитала, штук;\n",
    "    10. Количество персональных компьютеров на 100 человек, штук;\n",
    "    11. Затраты организаций на сетевые технологии, миллионов рублей; \n",
    "    12. Удельный вес затрат на ИКТ в ВРП, %.\n",
    "    \n",
    "Необходимо отметить, что в работе использовался достаточно скудный набор данных, из-за чего модели могут существенно отличаться при новом, более обширном анализе. С учетом этого, большинство шагов автоматизировано, что позволяет пересчитывать параметры моделей без внесения изменений в код."
   ]
  },
  {
   "cell_type": "markdown",
   "metadata": {},
   "source": [
    "## Код с комментариями"
   ]
  },
  {
   "cell_type": "markdown",
   "metadata": {},
   "source": [
    "Импортируем используемые библиотеки."
   ]
  },
  {
   "cell_type": "code",
   "execution_count": 95,
   "metadata": {
    "collapsed": false
   },
   "outputs": [],
   "source": [
    "import numpy as np\n",
    "import pandas as pd\n",
    "import seaborn as sb\n",
    "from scipy import stats\n",
    "from sklearn import preprocessing\n",
    "from IPython.display import display\n",
    "from sklearn.cross_validation import KFold\n",
    "from sklearn import linear_model\n",
    "import matplotlib.pyplot as plt\n",
    "%matplotlib inline"
   ]
  },
  {
   "cell_type": "markdown",
   "metadata": {},
   "source": [
    "Считываем данные из соответствующих файлов."
   ]
  },
  {
   "cell_type": "code",
   "execution_count": 101,
   "metadata": {
    "collapsed": false
   },
   "outputs": [],
   "source": [
    "institutional_factors = pd.read_csv('institutional_factors.csv', index_col='index')\n",
    "infrastructural_factors = pd.read_csv('infrastructural_factors.csv', index_col='index')\n",
    "resource_factors = pd.read_csv('resource_factors.csv', index_col='index')\n",
    "factors = [institutional_factors, infrastructural_factors, resource_factors]\n",
    "targets = pd.read_csv('target.csv', index_col='index')"
   ]
  },
  {
   "cell_type": "markdown",
   "metadata": {},
   "source": [
    "Изучаем таблицы."
   ]
  },
  {
   "cell_type": "code",
   "execution_count": 104,
   "metadata": {
    "collapsed": false
   },
   "outputs": [
    {
     "name": "stdout",
     "output_type": "stream",
     "text": [
      "Институциональные факторы\n"
     ]
    },
    {
     "data": {
      "text/html": [
       "<div>\n",
       "<table border=\"1\" class=\"dataframe\">\n",
       "  <thead>\n",
       "    <tr style=\"text-align: right;\">\n",
       "      <th></th>\n",
       "      <th>elections</th>\n",
       "      <th>parliament</th>\n",
       "      <th>executive</th>\n",
       "      <th>citizens_election</th>\n",
       "      <th>citizens_org</th>\n",
       "    </tr>\n",
       "    <tr>\n",
       "      <th>index</th>\n",
       "      <th></th>\n",
       "      <th></th>\n",
       "      <th></th>\n",
       "      <th></th>\n",
       "      <th></th>\n",
       "    </tr>\n",
       "  </thead>\n",
       "  <tbody>\n",
       "    <tr>\n",
       "      <th>vo</th>\n",
       "      <td>1</td>\n",
       "      <td>47.98</td>\n",
       "      <td>36.15</td>\n",
       "      <td>63.8</td>\n",
       "      <td>1.67</td>\n",
       "    </tr>\n",
       "    <tr>\n",
       "      <th>ra</th>\n",
       "      <td>1</td>\n",
       "      <td>34.13</td>\n",
       "      <td>35.64</td>\n",
       "      <td>64.4</td>\n",
       "      <td>1.01</td>\n",
       "    </tr>\n",
       "    <tr>\n",
       "      <th>ao</th>\n",
       "      <td>1</td>\n",
       "      <td>44.02</td>\n",
       "      <td>43.74</td>\n",
       "      <td>56.2</td>\n",
       "      <td>0.83</td>\n",
       "    </tr>\n",
       "    <tr>\n",
       "      <th>rk</th>\n",
       "      <td>1</td>\n",
       "      <td>36.80</td>\n",
       "      <td>37.98</td>\n",
       "      <td>62.0</td>\n",
       "      <td>1.48</td>\n",
       "    </tr>\n",
       "    <tr>\n",
       "      <th>kk</th>\n",
       "      <td>1</td>\n",
       "      <td>27.40</td>\n",
       "      <td>29.16</td>\n",
       "      <td>70.8</td>\n",
       "      <td>1.10</td>\n",
       "    </tr>\n",
       "    <tr>\n",
       "      <th>ro</th>\n",
       "      <td>1</td>\n",
       "      <td>40.65</td>\n",
       "      <td>36.22</td>\n",
       "      <td>63.8</td>\n",
       "      <td>0.96</td>\n",
       "    </tr>\n",
       "  </tbody>\n",
       "</table>\n",
       "</div>"
      ],
      "text/plain": [
       "       elections  parliament  executive  citizens_election  citizens_org\n",
       "index                                                                   \n",
       "vo             1       47.98      36.15               63.8          1.67\n",
       "ra             1       34.13      35.64               64.4          1.01\n",
       "ao             1       44.02      43.74               56.2          0.83\n",
       "rk             1       36.80      37.98               62.0          1.48\n",
       "kk             1       27.40      29.16               70.8          1.10\n",
       "ro             1       40.65      36.22               63.8          0.96"
      ]
     },
     "metadata": {},
     "output_type": "display_data"
    },
    {
     "name": "stdout",
     "output_type": "stream",
     "text": [
      "\n",
      "Инфраструктурные факторы\n"
     ]
    },
    {
     "data": {
      "text/html": [
       "<div>\n",
       "<table border=\"1\" class=\"dataframe\">\n",
       "  <thead>\n",
       "    <tr style=\"text-align: right;\">\n",
       "      <th></th>\n",
       "      <th>internet_all</th>\n",
       "      <th>internet_mobile</th>\n",
       "      <th>internet_pc</th>\n",
       "      <th>org_access</th>\n",
       "      <th>org_site</th>\n",
       "      <th>org_pc</th>\n",
       "      <th>edm</th>\n",
       "      <th>edm_external</th>\n",
       "      <th>authority_access</th>\n",
       "      <th>public_services</th>\n",
       "      <th>open_data</th>\n",
       "      <th>open_election</th>\n",
       "    </tr>\n",
       "    <tr>\n",
       "      <th>index</th>\n",
       "      <th></th>\n",
       "      <th></th>\n",
       "      <th></th>\n",
       "      <th></th>\n",
       "      <th></th>\n",
       "      <th></th>\n",
       "      <th></th>\n",
       "      <th></th>\n",
       "      <th></th>\n",
       "      <th></th>\n",
       "      <th></th>\n",
       "      <th></th>\n",
       "    </tr>\n",
       "  </thead>\n",
       "  <tbody>\n",
       "    <tr>\n",
       "      <th>vo</th>\n",
       "      <td>361.6</td>\n",
       "      <td>58.0</td>\n",
       "      <td>101.0</td>\n",
       "      <td>79.2</td>\n",
       "      <td>33.0</td>\n",
       "      <td>43.0</td>\n",
       "      <td>54.5</td>\n",
       "      <td>47.4</td>\n",
       "      <td>91.5</td>\n",
       "      <td>1</td>\n",
       "      <td>1</td>\n",
       "      <td>1</td>\n",
       "    </tr>\n",
       "    <tr>\n",
       "      <th>ra</th>\n",
       "      <td>27.8</td>\n",
       "      <td>70.8</td>\n",
       "      <td>104.0</td>\n",
       "      <td>96.2</td>\n",
       "      <td>51.0</td>\n",
       "      <td>45.0</td>\n",
       "      <td>82.1</td>\n",
       "      <td>44.6</td>\n",
       "      <td>98.3</td>\n",
       "      <td>1</td>\n",
       "      <td>1</td>\n",
       "      <td>1</td>\n",
       "    </tr>\n",
       "    <tr>\n",
       "      <th>ao</th>\n",
       "      <td>130.2</td>\n",
       "      <td>72.9</td>\n",
       "      <td>108.0</td>\n",
       "      <td>86.0</td>\n",
       "      <td>34.7</td>\n",
       "      <td>44.0</td>\n",
       "      <td>54.4</td>\n",
       "      <td>51.0</td>\n",
       "      <td>90.7</td>\n",
       "      <td>1</td>\n",
       "      <td>1</td>\n",
       "      <td>1</td>\n",
       "    </tr>\n",
       "    <tr>\n",
       "      <th>rk</th>\n",
       "      <td>24.0</td>\n",
       "      <td>66.6</td>\n",
       "      <td>89.0</td>\n",
       "      <td>89.4</td>\n",
       "      <td>28.5</td>\n",
       "      <td>49.0</td>\n",
       "      <td>59.8</td>\n",
       "      <td>51.6</td>\n",
       "      <td>89.6</td>\n",
       "      <td>1</td>\n",
       "      <td>1</td>\n",
       "      <td>1</td>\n",
       "    </tr>\n",
       "    <tr>\n",
       "      <th>kk</th>\n",
       "      <td>810.9</td>\n",
       "      <td>82.9</td>\n",
       "      <td>113.0</td>\n",
       "      <td>89.2</td>\n",
       "      <td>21.9</td>\n",
       "      <td>39.0</td>\n",
       "      <td>51.6</td>\n",
       "      <td>44.2</td>\n",
       "      <td>97.1</td>\n",
       "      <td>1</td>\n",
       "      <td>1</td>\n",
       "      <td>1</td>\n",
       "    </tr>\n",
       "    <tr>\n",
       "      <th>ro</th>\n",
       "      <td>608.3</td>\n",
       "      <td>57.9</td>\n",
       "      <td>105.0</td>\n",
       "      <td>86.0</td>\n",
       "      <td>34.6</td>\n",
       "      <td>43.0</td>\n",
       "      <td>53.1</td>\n",
       "      <td>43.5</td>\n",
       "      <td>97.9</td>\n",
       "      <td>1</td>\n",
       "      <td>1</td>\n",
       "      <td>1</td>\n",
       "    </tr>\n",
       "  </tbody>\n",
       "</table>\n",
       "</div>"
      ],
      "text/plain": [
       "       internet_all  internet_mobile  internet_pc  org_access  org_site  \\\n",
       "index                                                                     \n",
       "vo            361.6             58.0        101.0        79.2      33.0   \n",
       "ra             27.8             70.8        104.0        96.2      51.0   \n",
       "ao            130.2             72.9        108.0        86.0      34.7   \n",
       "rk             24.0             66.6         89.0        89.4      28.5   \n",
       "kk            810.9             82.9        113.0        89.2      21.9   \n",
       "ro            608.3             57.9        105.0        86.0      34.6   \n",
       "\n",
       "       org_pc   edm  edm_external  authority_access  public_services  \\\n",
       "index                                                                  \n",
       "vo       43.0  54.5          47.4              91.5                1   \n",
       "ra       45.0  82.1          44.6              98.3                1   \n",
       "ao       44.0  54.4          51.0              90.7                1   \n",
       "rk       49.0  59.8          51.6              89.6                1   \n",
       "kk       39.0  51.6          44.2              97.1                1   \n",
       "ro       43.0  53.1          43.5              97.9                1   \n",
       "\n",
       "       open_data  open_election  \n",
       "index                            \n",
       "vo             1              1  \n",
       "ra             1              1  \n",
       "ao             1              1  \n",
       "rk             1              1  \n",
       "kk             1              1  \n",
       "ro             1              1  "
      ]
     },
     "metadata": {},
     "output_type": "display_data"
    },
    {
     "name": "stdout",
     "output_type": "stream",
     "text": [
      "\n",
      "Ресурсные факторы\n"
     ]
    },
    {
     "data": {
      "text/html": [
       "<div>\n",
       "<table border=\"1\" class=\"dataframe\">\n",
       "  <thead>\n",
       "    <tr style=\"text-align: right;\">\n",
       "      <th></th>\n",
       "      <th>average_edu</th>\n",
       "      <th>high_edu</th>\n",
       "      <th>degree</th>\n",
       "      <th>ict</th>\n",
       "      <th>grp</th>\n",
       "      <th>income</th>\n",
       "      <th>po</th>\n",
       "      <th>invest</th>\n",
       "      <th>venture</th>\n",
       "      <th>pc</th>\n",
       "      <th>nt</th>\n",
       "      <th>ict_grp</th>\n",
       "    </tr>\n",
       "    <tr>\n",
       "      <th>index</th>\n",
       "      <th></th>\n",
       "      <th></th>\n",
       "      <th></th>\n",
       "      <th></th>\n",
       "      <th></th>\n",
       "      <th></th>\n",
       "      <th></th>\n",
       "      <th></th>\n",
       "      <th></th>\n",
       "      <th></th>\n",
       "      <th></th>\n",
       "      <th></th>\n",
       "    </tr>\n",
       "  </thead>\n",
       "  <tbody>\n",
       "    <tr>\n",
       "      <th>vo</th>\n",
       "      <td>65.9</td>\n",
       "      <td>30.8</td>\n",
       "      <td>0.015</td>\n",
       "      <td>1.410</td>\n",
       "      <td>278961.2</td>\n",
       "      <td>19055.7</td>\n",
       "      <td>78.0</td>\n",
       "      <td>1.3</td>\n",
       "      <td>1</td>\n",
       "      <td>43</td>\n",
       "      <td>2252.6</td>\n",
       "      <td>5.580</td>\n",
       "    </tr>\n",
       "    <tr>\n",
       "      <th>ra</th>\n",
       "      <td>63.3</td>\n",
       "      <td>31.2</td>\n",
       "      <td>0.016</td>\n",
       "      <td>0.948</td>\n",
       "      <td>174017.6</td>\n",
       "      <td>22054.2</td>\n",
       "      <td>95.3</td>\n",
       "      <td>0.1</td>\n",
       "      <td>0</td>\n",
       "      <td>45</td>\n",
       "      <td>46.9</td>\n",
       "      <td>0.427</td>\n",
       "    </tr>\n",
       "    <tr>\n",
       "      <th>ao</th>\n",
       "      <td>62.4</td>\n",
       "      <td>32.0</td>\n",
       "      <td>0.028</td>\n",
       "      <td>1.320</td>\n",
       "      <td>283591.2</td>\n",
       "      <td>22168.8</td>\n",
       "      <td>82.3</td>\n",
       "      <td>0.8</td>\n",
       "      <td>0</td>\n",
       "      <td>44</td>\n",
       "      <td>213.6</td>\n",
       "      <td>1.003</td>\n",
       "    </tr>\n",
       "    <tr>\n",
       "      <th>rk</th>\n",
       "      <td>59.2</td>\n",
       "      <td>36.3</td>\n",
       "      <td>0.027</td>\n",
       "      <td>1.327</td>\n",
       "      <td>163688.1</td>\n",
       "      <td>12398.4</td>\n",
       "      <td>84.4</td>\n",
       "      <td>0.1</td>\n",
       "      <td>0</td>\n",
       "      <td>49</td>\n",
       "      <td>88.8</td>\n",
       "      <td>0.648</td>\n",
       "    </tr>\n",
       "    <tr>\n",
       "      <th>kk</th>\n",
       "      <td>68.7</td>\n",
       "      <td>28.3</td>\n",
       "      <td>0.031</td>\n",
       "      <td>1.080</td>\n",
       "      <td>330100.2</td>\n",
       "      <td>28787.8</td>\n",
       "      <td>83.8</td>\n",
       "      <td>5.1</td>\n",
       "      <td>1</td>\n",
       "      <td>39</td>\n",
       "      <td>12595.5</td>\n",
       "      <td>7.602</td>\n",
       "    </tr>\n",
       "    <tr>\n",
       "      <th>ro</th>\n",
       "      <td>63.7</td>\n",
       "      <td>31.3</td>\n",
       "      <td>0.035</td>\n",
       "      <td>1.739</td>\n",
       "      <td>235695.9</td>\n",
       "      <td>23354.7</td>\n",
       "      <td>82.4</td>\n",
       "      <td>1.9</td>\n",
       "      <td>0</td>\n",
       "      <td>43</td>\n",
       "      <td>657.6</td>\n",
       "      <td>0.753</td>\n",
       "    </tr>\n",
       "  </tbody>\n",
       "</table>\n",
       "</div>"
      ],
      "text/plain": [
       "       average_edu  high_edu  degree    ict       grp   income    po  invest  \\\n",
       "index                                                                          \n",
       "vo            65.9      30.8   0.015  1.410  278961.2  19055.7  78.0     1.3   \n",
       "ra            63.3      31.2   0.016  0.948  174017.6  22054.2  95.3     0.1   \n",
       "ao            62.4      32.0   0.028  1.320  283591.2  22168.8  82.3     0.8   \n",
       "rk            59.2      36.3   0.027  1.327  163688.1  12398.4  84.4     0.1   \n",
       "kk            68.7      28.3   0.031  1.080  330100.2  28787.8  83.8     5.1   \n",
       "ro            63.7      31.3   0.035  1.739  235695.9  23354.7  82.4     1.9   \n",
       "\n",
       "       venture  pc       nt  ict_grp  \n",
       "index                                 \n",
       "vo           1  43   2252.6    5.580  \n",
       "ra           0  45     46.9    0.427  \n",
       "ao           0  44    213.6    1.003  \n",
       "rk           0  49     88.8    0.648  \n",
       "kk           1  39  12595.5    7.602  \n",
       "ro           0  43    657.6    0.753  "
      ]
     },
     "metadata": {},
     "output_type": "display_data"
    }
   ],
   "source": [
    "print u'Институциональные факторы'\n",
    "display(institutional_factors[:10])\n",
    "print u'\\nИнфраструктурные факторы'\n",
    "display(infrastructural_factors[:10])\n",
    "print u'\\nРесурсные факторы'\n",
    "display(resource_factors[:10])"
   ]
  },
  {
   "cell_type": "markdown",
   "metadata": {},
   "source": [
    "Некоторые индикаторы принимают лишь одно значение на изучаемой выборке и бесполезны для построения модели. Удалим их."
   ]
  },
  {
   "cell_type": "code",
   "execution_count": null,
   "metadata": {
    "collapsed": true
   },
   "outputs": [],
   "source": [
    "institutional_factors.d"
   ]
  },
  {
   "cell_type": "code",
   "execution_count": 120,
   "metadata": {
    "collapsed": false
   },
   "outputs": [
    {
     "name": "stdout",
     "output_type": "stream",
     "text": [
      "       parliament  executive  citizens_election  citizens_org\n",
      "index                                                        \n",
      "vo          47.98      36.15               63.8          1.67\n",
      "ra          34.13      35.64               64.4          1.01\n",
      "ao          44.02      43.74               56.2          0.83\n",
      "rk          36.80      37.98               62.0          1.48\n",
      "kk          27.40      29.16               70.8          1.10\n",
      "ro          40.65      36.22               63.8          0.96\n",
      "       internet_all  internet_mobile  internet_pc  org_access  org_site  \\\n",
      "index                                                                     \n",
      "vo            361.6             58.0        101.0        79.2      33.0   \n",
      "ra             27.8             70.8        104.0        96.2      51.0   \n",
      "ao            130.2             72.9        108.0        86.0      34.7   \n",
      "rk             24.0             66.6         89.0        89.4      28.5   \n",
      "kk            810.9             82.9        113.0        89.2      21.9   \n",
      "ro            608.3             57.9        105.0        86.0      34.6   \n",
      "\n",
      "       org_pc   edm  edm_external  authority_access  \n",
      "index                                                \n",
      "vo       43.0  54.5          47.4              91.5  \n",
      "ra       45.0  82.1          44.6              98.3  \n",
      "ao       44.0  54.4          51.0              90.7  \n",
      "rk       49.0  59.8          51.6              89.6  \n",
      "kk       39.0  51.6          44.2              97.1  \n",
      "ro       43.0  53.1          43.5              97.9  \n",
      "       average_edu  high_edu  degree    ict       grp   income    po  invest  \\\n",
      "index                                                                          \n",
      "vo            65.9      30.8   0.015  1.410  278961.2  19055.7  78.0     1.3   \n",
      "ra            63.3      31.2   0.016  0.948  174017.6  22054.2  95.3     0.1   \n",
      "ao            62.4      32.0   0.028  1.320  283591.2  22168.8  82.3     0.8   \n",
      "rk            59.2      36.3   0.027  1.327  163688.1  12398.4  84.4     0.1   \n",
      "kk            68.7      28.3   0.031  1.080  330100.2  28787.8  83.8     5.1   \n",
      "ro            63.7      31.3   0.035  1.739  235695.9  23354.7  82.4     1.9   \n",
      "\n",
      "       venture  pc       nt  ict_grp  \n",
      "index                                 \n",
      "vo           1  43   2252.6    5.580  \n",
      "ra           0  45     46.9    0.427  \n",
      "ao           0  44    213.6    1.003  \n",
      "rk           0  49     88.8    0.648  \n",
      "kk           1  39  12595.5    7.602  \n",
      "ro           0  43    657.6    0.753  \n"
     ]
    }
   ],
   "source": [
    "cleared_factors = []\n",
    "for df in factors:\n",
    "    for column in df.columns:\n",
    "        if df.min()[column] == df.max()[column]:\n",
    "            df = df.drop(column, axis=1)\n",
    "    cleared_factors.append(df)\n",
    "for df in cleared_factors:\n",
    "    print df"
   ]
  },
  {
   "cell_type": "code",
   "execution_count": 57,
   "metadata": {
    "collapsed": false
   },
   "outputs": [
    {
     "data": {
      "text/plain": [
       "<matplotlib.axes._subplots.AxesSubplot at 0x7f6312b71210>"
      ]
     },
     "execution_count": 57,
     "metadata": {},
     "output_type": "execute_result"
    },
    {
     "data": {
      "image/png": "[encoded data removed]",
      "text/plain": [
       "<matplotlib.figure.Figure at 0x7f63128311d0>"
      ]
     },
     "metadata": {},
     "output_type": "display_data"
    }
   ],
   "source": [
    "f, ax = plt.subplots(figsize=(10, 10))\n",
    "sb.corrplot(institutional_factors)"
   ]
  },
  {
   "cell_type": "code",
   "execution_count": 65,
   "metadata": {
    "collapsed": false
   },
   "outputs": [
    {
     "data": {
      "text/html": [
       "<div>\n",
       "<table border=\"1\" class=\"dataframe\">\n",
       "  <thead>\n",
       "    <tr style=\"text-align: right;\">\n",
       "      <th></th>\n",
       "      <th>internet_all</th>\n",
       "      <th>internet_mobile</th>\n",
       "      <th>internet_pc</th>\n",
       "      <th>org_access</th>\n",
       "      <th>org_site</th>\n",
       "      <th>org_pc</th>\n",
       "      <th>edm</th>\n",
       "      <th>edm_external</th>\n",
       "      <th>authority_access</th>\n",
       "      <th>public_services</th>\n",
       "      <th>open_data</th>\n",
       "      <th>open_election</th>\n",
       "    </tr>\n",
       "    <tr>\n",
       "      <th>index</th>\n",
       "      <th></th>\n",
       "      <th></th>\n",
       "      <th></th>\n",
       "      <th></th>\n",
       "      <th></th>\n",
       "      <th></th>\n",
       "      <th></th>\n",
       "      <th></th>\n",
       "      <th></th>\n",
       "      <th></th>\n",
       "      <th></th>\n",
       "      <th></th>\n",
       "    </tr>\n",
       "  </thead>\n",
       "  <tbody>\n",
       "    <tr>\n",
       "      <th>vo</th>\n",
       "      <td>361.6</td>\n",
       "      <td>58.0</td>\n",
       "      <td>101.0</td>\n",
       "      <td>79.2</td>\n",
       "      <td>33.0</td>\n",
       "      <td>43.0</td>\n",
       "      <td>54.5</td>\n",
       "      <td>47.4</td>\n",
       "      <td>91.5</td>\n",
       "      <td>1</td>\n",
       "      <td>1</td>\n",
       "      <td>1</td>\n",
       "    </tr>\n",
       "    <tr>\n",
       "      <th>ra</th>\n",
       "      <td>27.8</td>\n",
       "      <td>70.8</td>\n",
       "      <td>104.0</td>\n",
       "      <td>96.2</td>\n",
       "      <td>51.0</td>\n",
       "      <td>45.0</td>\n",
       "      <td>82.1</td>\n",
       "      <td>44.6</td>\n",
       "      <td>98.3</td>\n",
       "      <td>1</td>\n",
       "      <td>1</td>\n",
       "      <td>1</td>\n",
       "    </tr>\n",
       "    <tr>\n",
       "      <th>ao</th>\n",
       "      <td>130.2</td>\n",
       "      <td>72.9</td>\n",
       "      <td>108.0</td>\n",
       "      <td>86.0</td>\n",
       "      <td>34.7</td>\n",
       "      <td>44.0</td>\n",
       "      <td>54.4</td>\n",
       "      <td>51.0</td>\n",
       "      <td>90.7</td>\n",
       "      <td>1</td>\n",
       "      <td>1</td>\n",
       "      <td>1</td>\n",
       "    </tr>\n",
       "    <tr>\n",
       "      <th>rk</th>\n",
       "      <td>24.0</td>\n",
       "      <td>66.6</td>\n",
       "      <td>89.0</td>\n",
       "      <td>89.4</td>\n",
       "      <td>28.5</td>\n",
       "      <td>49.0</td>\n",
       "      <td>59.8</td>\n",
       "      <td>51.6</td>\n",
       "      <td>89.6</td>\n",
       "      <td>1</td>\n",
       "      <td>1</td>\n",
       "      <td>1</td>\n",
       "    </tr>\n",
       "    <tr>\n",
       "      <th>kk</th>\n",
       "      <td>810.9</td>\n",
       "      <td>82.9</td>\n",
       "      <td>113.0</td>\n",
       "      <td>89.2</td>\n",
       "      <td>21.9</td>\n",
       "      <td>39.0</td>\n",
       "      <td>51.6</td>\n",
       "      <td>44.2</td>\n",
       "      <td>97.1</td>\n",
       "      <td>1</td>\n",
       "      <td>1</td>\n",
       "      <td>1</td>\n",
       "    </tr>\n",
       "    <tr>\n",
       "      <th>ro</th>\n",
       "      <td>608.3</td>\n",
       "      <td>57.9</td>\n",
       "      <td>105.0</td>\n",
       "      <td>86.0</td>\n",
       "      <td>34.6</td>\n",
       "      <td>43.0</td>\n",
       "      <td>53.1</td>\n",
       "      <td>43.5</td>\n",
       "      <td>97.9</td>\n",
       "      <td>1</td>\n",
       "      <td>1</td>\n",
       "      <td>1</td>\n",
       "    </tr>\n",
       "  </tbody>\n",
       "</table>\n",
       "</div>"
      ],
      "text/plain": [
       "       internet_all  internet_mobile  internet_pc  org_access  org_site  \\\n",
       "index                                                                     \n",
       "vo            361.6             58.0        101.0        79.2      33.0   \n",
       "ra             27.8             70.8        104.0        96.2      51.0   \n",
       "ao            130.2             72.9        108.0        86.0      34.7   \n",
       "rk             24.0             66.6         89.0        89.4      28.5   \n",
       "kk            810.9             82.9        113.0        89.2      21.9   \n",
       "ro            608.3             57.9        105.0        86.0      34.6   \n",
       "\n",
       "       org_pc   edm  edm_external  authority_access  public_services  \\\n",
       "index                                                                  \n",
       "vo       43.0  54.5          47.4              91.5                1   \n",
       "ra       45.0  82.1          44.6              98.3                1   \n",
       "ao       44.0  54.4          51.0              90.7                1   \n",
       "rk       49.0  59.8          51.6              89.6                1   \n",
       "kk       39.0  51.6          44.2              97.1                1   \n",
       "ro       43.0  53.1          43.5              97.9                1   \n",
       "\n",
       "       open_data  open_election  \n",
       "index                            \n",
       "vo             1              1  \n",
       "ra             1              1  \n",
       "ao             1              1  \n",
       "rk             1              1  \n",
       "kk             1              1  \n",
       "ro             1              1  "
      ]
     },
     "execution_count": 65,
     "metadata": {},
     "output_type": "execute_result"
    }
   ],
   "source": [
    "infrastructural_factors"
   ]
  },
  {
   "cell_type": "code",
   "execution_count": 67,
   "metadata": {
    "collapsed": false
   },
   "outputs": [
    {
     "data": {
      "text/plain": [
       "<matplotlib.axes._subplots.AxesSubplot at 0x7f6310350290>"
      ]
     },
     "execution_count": 67,
     "metadata": {},
     "output_type": "execute_result"
    },
    {
     "data": {
      "image/png": "[encoded data removed]",
      "text/plain": [
       "<matplotlib.figure.Figure at 0x7f6310945290>"
      ]
     },
     "metadata": {},
     "output_type": "display_data"
    }
   ],
   "source": [
    "f, ax = plt.subplots(figsize=(15, 15))\n",
    "sb.corrplot(infrastructural_factors)"
   ]
  },
  {
   "cell_type": "code",
   "execution_count": 63,
   "metadata": {
    "collapsed": false
   },
   "outputs": [
    {
     "data": {
      "text/plain": [
       "<matplotlib.axes._subplots.AxesSubplot at 0x7f6310eadd10>"
      ]
     },
     "execution_count": 63,
     "metadata": {},
     "output_type": "execute_result"
    },
    {
     "data": {
      "image/png": "[encoded data removed]",
      "text/plain": [
       "<matplotlib.figure.Figure at 0x7f6311a716d0>"
      ]
     },
     "metadata": {},
     "output_type": "display_data"
    }
   ],
   "source": [
    "f, ax = plt.subplots(figsize=(15, 15))\n",
    "sb.corrplot(resource_factors)"
   ]
  }
 ],
 "metadata": {
  "kernelspec": {
   "display_name": "Python 2",
   "language": "python",
   "name": "python2"
  },
  "language_info": {
   "codemirror_mode": {
    "name": "ipython",
    "version": 2
   },
   "file_extension": ".py",
   "mimetype": "text/x-python",
   "name": "python",
   "nbconvert_exporter": "python",
   "pygments_lexer": "ipython2",
   "version": "2.7.11"
  }
 },
 "nbformat": 4,
 "nbformat_minor": 0
}
